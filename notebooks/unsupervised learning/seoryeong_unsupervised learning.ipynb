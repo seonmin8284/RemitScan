{
 "cells": [
  {
   "cell_type": "code",
   "execution_count": 0,
   "metadata": {
    "application/vnd.databricks.v1+cell": {
     "cellMetadata": {
      "byteLimit": 2048000,
      "rowLimit": 10000
     },
     "inputWidgets": {},
     "nuid": "94cdb9a1-3167-4107-9b20-bd721728ebd6",
     "showTitle": false,
     "tableResultSettingsMap": {},
     "title": ""
    }
   },
   "outputs": [
    {
     "output_type": "stream",
     "name": "stdout",
     "output_type": "stream",
     "text": [
      "[FileInfo(path='dbfs:/mnt/my-mount/FDS_Dataset.JPG', name='FDS_Dataset.JPG', size=231190, modificationTime=1744691025000), FileInfo(path='dbfs:/mnt/my-mount/fraud_detection_dataset_with_full_columns.csv', name='fraud_detection_dataset_with_full_columns.csv', size=39891173, modificationTime=1745382516000), FileInfo(path='dbfs:/mnt/my-mount/synthetic_transaction_data.csv', name='synthetic_transaction_data.csv', size=116321723, modificationTime=1746086547000)]\n"
     ]
    }
   ],
   "source": [
    "files = dbutils.fs.ls(\"/mnt/my-mount\")\n",
    "print(files)"
   ]
  },
  {
   "cell_type": "code",
   "execution_count": 0,
   "metadata": {
    "application/vnd.databricks.v1+cell": {
     "cellMetadata": {
      "byteLimit": 2048000,
      "rowLimit": 10000
     },
     "inputWidgets": {},
     "nuid": "582933e3-b067-42ca-91e0-b3558e56d31a",
     "showTitle": false,
     "tableResultSettingsMap": {},
     "title": ""
    }
   },
   "outputs": [
    {
     "output_type": "stream",
     "name": "stdout",
     "output_type": "stream",
     "text": [
      "      transaction_time  TransactionDT recipient  TransactionAmt  hour  \\\n0  2025-01-14 09:56:23          86400        춘자         68500.0     9   \n1  2025-04-20 22:42:41          86401        수빈         29000.0    22   \n2  2025-04-09 19:27:13          86469        서준         59000.0    19   \n3  2025-01-30 01:26:54          86499        병철         50000.0     1   \n4  2025-01-24 22:58:30          86506        민수         50000.0    22   \n\n   voice_match                     DeviceInfo region receiver_bank  \\\n0         True                        Unknown     대구          토스뱅크   \n1        False                        Unknown     대구         카카오뱅크   \n2         True                        Unknown     부산          신한은행   \n3         True                        Unknown     부산         카카오뱅크   \n4         True  SAMSUNG SM-G892A Build/NRD90M     서울          우리은행   \n\n   receiver_account  is_new_account_for_user  avg_amount_to_bank  \\\n0     1000000266274                    False              481616   \n1     1000000573349                     True               79943   \n2     1000000451208                    False              218283   \n3     1000000473588                    False              457390   \n4     1000000040287                    False              289443   \n\n   amount_ratio_to_bank_avg  is_nighttime  recent_transaction_gap  \\\n0                  0.142229             0               14.932585   \n1                  0.362758             0               21.894439   \n2                  0.270291             0               17.249459   \n3                  0.109316             1               12.112011   \n4                  0.172746             0               75.834574   \n\n   is_new_device      ip_address    vpn payment_method intent authentication  \\\n0          False    58.232.2.170  False            P04    T05            A06   \n1          False      25.0.3.185  False            P05    T02            A02   \n2          False  168.188.65.132   True            P01    T05            A06   \n3           True  158.221.28.126   True            P05    T05            A02   \n4           True  171.223.101.73   True            P04    T02            A02   \n\n  app_version  rooting  \n0       3.1.0    False  \n1       3.4.3    False  \n2       1.2.1     True  \n3       3.8.1     True  \n4       3.6.0     True  \n"
     ]
    }
   ],
   "source": [
    "import pandas as pd\n",
    "\n",
    "fds_pdf = pd.read_csv(\"/dbfs/mnt/my-mount/synthetic_transaction_data.csv\")\n",
    "print(fds_pdf.head()) "
   ]
  },
  {
   "cell_type": "code",
   "execution_count": 0,
   "metadata": {
    "application/vnd.databricks.v1+cell": {
     "cellMetadata": {
      "byteLimit": 2048000,
      "rowLimit": 10000
     },
     "inputWidgets": {},
     "nuid": "c0164af1-7c2d-4b79-9e2b-ccafb3586f6f",
     "showTitle": false,
     "tableResultSettingsMap": {},
     "title": ""
    }
   },
   "outputs": [
    {
     "output_type": "stream",
     "name": "stdout",
     "output_type": "stream",
     "text": [
      "      transaction_time  TransactionDT recipient  TransactionAmt  hour  \\\n0  2025-01-14 09:56:23          86400        춘자         68500.0     9   \n1  2025-04-20 22:42:41          86401        수빈         29000.0    22   \n2  2025-04-09 19:27:13          86469        서준         59000.0    19   \n3  2025-01-30 01:26:54          86499        병철         50000.0     1   \n4  2025-01-24 22:58:30          86506        민수         50000.0    22   \n\n   voice_match                     DeviceInfo region receiver_bank  \\\n0         True                            NaN     대구          토스뱅크   \n1        False                            NaN     대구         카카오뱅크   \n2         True                            NaN     부산          신한은행   \n3         True                            NaN     부산         카카오뱅크   \n4         True  SAMSUNG SM-G892A Build/NRD90M     서울          우리은행   \n\n   receiver_account  is_new_account_for_user  avg_amount_to_bank  \\\n0     1000000266274                    False              481616   \n1     1000000573349                     True               79943   \n2     1000000451208                    False              218283   \n3     1000000473588                    False              457390   \n4     1000000040287                    False              289443   \n\n   amount_ratio_to_bank_avg  is_nighttime  recent_transaction_gap  \\\n0                  0.142229             0               14.932585   \n1                  0.362758             0               21.894439   \n2                  0.270291             0               17.249459   \n3                  0.109316             1               12.112011   \n4                  0.172746             0               75.834574   \n\n   is_new_device      ip_address    vpn payment_method intent authentication  \\\n0          False    58.232.2.170  False            P04    T05            A06   \n1          False      25.0.3.185  False            P05    T02            A02   \n2          False  168.188.65.132   True            P01    T05            A06   \n3           True  158.221.28.126   True            P05    T05            A02   \n4           True  171.223.101.73   True            P04    T02            A02   \n\n  app_version  rooting  \n0       3.1.0    False  \n1       3.4.3    False  \n2       1.2.1     True  \n3       3.8.1     True  \n4       3.6.0     True  \n"
     ]
    }
   ],
   "source": [
    "import numpy as np\n",
    "\n",
    "fds_pdf['DeviceInfo'] = fds_pdf['DeviceInfo'].replace('Unknown',np.nan)\n",
    "pd.set_option('display.max_rows', None)\n",
    "pd.set_option('display.max_columns', None)\n",
    "\n",
    "print(fds_pdf.head())"
   ]
  },
  {
   "cell_type": "markdown",
   "metadata": {
    "application/vnd.databricks.v1+cell": {
     "cellMetadata": {},
     "inputWidgets": {},
     "nuid": "c4d1e9a6-8603-42da-9378-1a971299680d",
     "showTitle": false,
     "tableResultSettingsMap": {},
     "title": ""
    }
   },
   "source": [
    "Data Scaling"
   ]
  },
  {
   "cell_type": "code",
   "execution_count": 0,
   "metadata": {
    "application/vnd.databricks.v1+cell": {
     "cellMetadata": {
      "byteLimit": 2048000,
      "rowLimit": 10000
     },
     "inputWidgets": {},
     "nuid": "f7ea40bc-f173-4b22-ab67-8f5711ff105f",
     "showTitle": false,
     "tableResultSettingsMap": {},
     "title": ""
    }
   },
   "outputs": [
    {
     "output_type": "stream",
     "name": "stdout",
     "output_type": "stream",
     "text": [
      "      transaction_time  TransactionDT recipient  TransactionAmt  hour  \\\n0  2025-01-14 09:56:23          86400        춘자         68500.0     9   \n1  2025-04-20 22:42:41          86401        수빈         29000.0    22   \n2  2025-04-09 19:27:13          86469        서준         59000.0    19   \n3  2025-01-30 01:26:54          86499        병철         50000.0     1   \n4  2025-01-24 22:58:30          86506        민수         50000.0    22   \n\n   voice_match                     DeviceInfo region receiver_bank  \\\n0            1                            NaN     대구          토스뱅크   \n1            0                            NaN     대구         카카오뱅크   \n2            1                            NaN     부산          신한은행   \n3            1                            NaN     부산         카카오뱅크   \n4            1  SAMSUNG SM-G892A Build/NRD90M     서울          우리은행   \n\n   receiver_account  is_new_account_for_user  avg_amount_to_bank  \\\n0     1000000266274                        0              481616   \n1     1000000573349                        1               79943   \n2     1000000451208                        0              218283   \n3     1000000473588                        0              457390   \n4     1000000040287                        0              289443   \n\n   amount_ratio_to_bank_avg  is_nighttime  recent_transaction_gap  \\\n0                  0.142229             0               14.932585   \n1                  0.362758             0               21.894439   \n2                  0.270291             0               17.249459   \n3                  0.109316             1               12.112011   \n4                  0.172746             0               75.834574   \n\n   is_new_device      ip_address  vpn app_version  rooting  \\\n0              0    58.232.2.170    0       3.1.0        0   \n1              0      25.0.3.185    0       3.4.3        0   \n2              0  168.188.65.132    1       1.2.1        1   \n3              1  158.221.28.126    1       3.8.1        1   \n4              1  171.223.101.73    1       3.6.0        1   \n\n   payment_method_P01  payment_method_P02  payment_method_P03  \\\n0                   0                   0                   0   \n1                   0                   0                   0   \n2                   1                   0                   0   \n3                   0                   0                   0   \n4                   0                   0                   0   \n\n   payment_method_P04  payment_method_P05  payment_method_P06  intent_T01  \\\n0                   1                   0                   0           0   \n1                   0                   1                   0           0   \n2                   0                   0                   0           0   \n3                   0                   1                   0           0   \n4                   1                   0                   0           0   \n\n   intent_T02  intent_T03  intent_T04  intent_T05  authentication_A01  \\\n0           0           0           0           1                   0   \n1           1           0           0           0                   0   \n2           0           0           0           1                   0   \n3           0           0           0           1                   0   \n4           1           0           0           0                   0   \n\n   authentication_A02  authentication_A03  authentication_A04  \\\n0                   0                   0                   0   \n1                   1                   0                   0   \n2                   0                   0                   0   \n3                   1                   0                   0   \n4                   1                   0                   0   \n\n   authentication_A05  authentication_A06  \n0                   0                   1  \n1                   0                   0  \n2                   0                   1  \n3                   0                   0  \n4                   0                   0  \n['TransactionAmt', 'hour', 'voice_match', 'is_new_account_for_user', 'avg_amount_to_bank', 'amount_ratio_to_bank_avg', 'is_nighttime', 'recent_transaction_gap', 'is_new_device', 'vpn', 'rooting', 'payment_method_P01', 'payment_method_P02', 'payment_method_P03', 'payment_method_P04', 'payment_method_P05', 'payment_method_P06', 'intent_T01', 'intent_T02', 'intent_T03', 'intent_T04', 'intent_T05', 'authentication_A01', 'authentication_A02', 'authentication_A03', 'authentication_A04', 'authentication_A05', 'authentication_A06']\n****************************************************************************************************\n[[-0.27816747 -0.35987014  0.99989163 ... -0.44715543 -0.4487467\n   2.23626338]\n [-0.44332726  1.51973769 -1.00010838 ... -0.44715543 -0.4487467\n  -0.44717452]\n [-0.31788944  1.08598204  0.99989163 ... -0.44715543 -0.4487467\n   2.23626338]\n ...\n [-0.4351738   1.51973769 -1.00010838 ... -0.44715543 -0.4487467\n  -0.44717452]\n [-0.07537632  1.23056725  0.99989163 ... -0.44715543 -0.4487467\n  -0.44717452]\n [ 0.6059601  -0.7936258  -1.00010838 ... -0.44715543  2.22842863\n  -0.44717452]]\n"
     ]
    }
   ],
   "source": [
    "import pandas as pd\n",
    "from sklearn.preprocessing import StandardScaler\n",
    "\n",
    "# Boolean columns → int 변환\n",
    "bool_cols=[\n",
    "    'voice_match',\n",
    "    'is_new_account_for_user',\n",
    "    'is_new_device',\n",
    "    'vpn',\n",
    "    'rooting'\n",
    "]\n",
    "\n",
    "fds_pdf[bool_cols] = fds_pdf[bool_cols].astype(int)\n",
    "\n",
    "categorical_cols = ['payment_method', 'intent', 'authentication']\n",
    "fds_pdf_encoded= pd.get_dummies(fds_pdf, columns=categorical_cols, drop_first=False)\n",
    "\n",
    "pd.set_option('display.max_rows', None)\n",
    "pd.set_option('display.max_columns', None)\n",
    "\n",
    "print(fds_pdf_encoded.head())\n",
    "exclude_cols =[\n",
    "    'transaction_time',       \n",
    "    'TransactionDT',          \n",
    "    'recipient',              \n",
    "    'region',                 \n",
    "    'DeviceInfo',             \n",
    "    'receiver_bank',          \n",
    "    'receiver_account',   \n",
    "    'ip_address',             \n",
    "    'app_version'\n",
    "]\n",
    "\n",
    "features = [col for col in fds_pdf_encoded.columns if col not in exclude_cols]\n",
    "print(features)\n",
    "print('*'*100)\n",
    "\n",
    "# 정규화 (스케일링)\n",
    "scaler = StandardScaler()\n",
    "X = scaler.fit_transform(fds_pdf_encoded[features])\n",
    "\n",
    "print(X)\n"
   ]
  },
  {
   "cell_type": "markdown",
   "metadata": {
    "application/vnd.databricks.v1+cell": {
     "cellMetadata": {},
     "inputWidgets": {},
     "nuid": "f3844f5f-0f49-4a3c-9fe0-c50df0fe6724",
     "showTitle": false,
     "tableResultSettingsMap": {},
     "title": ""
    }
   },
   "source": [
    "Unsupervised Learning 적용① - Isolation Forest"
   ]
  },
  {
   "cell_type": "code",
   "execution_count": 0,
   "metadata": {
    "application/vnd.databricks.v1+cell": {
     "cellMetadata": {
      "byteLimit": 2048000,
      "rowLimit": 10000
     },
     "inputWidgets": {},
     "nuid": "979f7344-299f-4cbf-bc98-99b7bae2c5d2",
     "showTitle": false,
     "tableResultSettingsMap": {},
     "title": ""
    }
   },
   "outputs": [
    {
     "output_type": "stream",
     "name": "stdout",
     "output_type": "stream",
     "text": [
      "IsolationForest(contamination=0.05, random_state=42)\n[ 1  1  1 ...  1  1 -1]\n****************************************************************************************************\n전체 이상 거래 개수\n****************************************************************************************************\n0    561013\n1     29527\nName: anomaly_iforest, dtype: int64\n"
     ]
    }
   ],
   "source": [
    "from sklearn.ensemble import IsolationForest\n",
    "import numpy as np\n",
    "\n",
    "iso_forest = IsolationForest(n_estimators=100, contamination=0.05, random_state=42)\n",
    "print(iso_forest)\n",
    "iso_forest.fit(X)\n",
    "\n",
    "# 이상치 예측 (-1: 이상치, 1: 정상치)\n",
    "preds = iso_forest.predict(X)\n",
    "print(preds)\n",
    "\n",
    "# 이상치 여부를 0/1로 변환 (1: 이상거래)\n",
    "fds_pdf_encoded['anomaly_iforest'] = np.where(preds==-1, 1, 0)\n",
    "\n",
    "#결과 확인\n",
    "print('*'*100)\n",
    "print('전체 이상 거래 개수')\n",
    "print('*'*100)\n",
    "print(fds_pdf_encoded['anomaly_iforest'].value_counts())"
   ]
  },
  {
   "cell_type": "code",
   "execution_count": 0,
   "metadata": {
    "application/vnd.databricks.v1+cell": {
     "cellMetadata": {
      "byteLimit": 2048000,
      "rowLimit": 10000
     },
     "inputWidgets": {},
     "nuid": "a4cb6393-6330-4f47-af03-c7be0e42ff84",
     "showTitle": false,
     "tableResultSettingsMap": {},
     "title": ""
    }
   },
   "outputs": [
    {
     "output_type": "stream",
     "name": "stdout",
     "output_type": "stream",
     "text": [
      "      transaction_time  TransactionDT recipient  TransactionAmt  hour  \\\n0  2025-01-14 09:56:23          86400        춘자         68500.0     9   \n1  2025-04-20 22:42:41          86401        수빈         29000.0    22   \n2  2025-04-09 19:27:13          86469        서준         59000.0    19   \n3  2025-01-30 01:26:54          86499        병철         50000.0     1   \n4  2025-01-24 22:58:30          86506        민수         50000.0    22   \n\n   voice_match                     DeviceInfo region receiver_bank  \\\n0            1                            NaN     대구          토스뱅크   \n1            0                            NaN     대구         카카오뱅크   \n2            1                            NaN     부산          신한은행   \n3            1                            NaN     부산         카카오뱅크   \n4            1  SAMSUNG SM-G892A Build/NRD90M     서울          우리은행   \n\n   receiver_account  is_new_account_for_user  avg_amount_to_bank  \\\n0     1000000266274                        0              481616   \n1     1000000573349                        1               79943   \n2     1000000451208                        0              218283   \n3     1000000473588                        0              457390   \n4     1000000040287                        0              289443   \n\n   amount_ratio_to_bank_avg  is_nighttime  recent_transaction_gap  \\\n0                  0.142229             0               14.932585   \n1                  0.362758             0               21.894439   \n2                  0.270291             0               17.249459   \n3                  0.109316             1               12.112011   \n4                  0.172746             0               75.834574   \n\n   is_new_device      ip_address  vpn app_version  rooting  \\\n0              0    58.232.2.170    0       3.1.0        0   \n1              0      25.0.3.185    0       3.4.3        0   \n2              0  168.188.65.132    1       1.2.1        1   \n3              1  158.221.28.126    1       3.8.1        1   \n4              1  171.223.101.73    1       3.6.0        1   \n\n   payment_method_P01  payment_method_P02  payment_method_P03  \\\n0                   0                   0                   0   \n1                   0                   0                   0   \n2                   1                   0                   0   \n3                   0                   0                   0   \n4                   0                   0                   0   \n\n   payment_method_P04  payment_method_P05  payment_method_P06  intent_T01  \\\n0                   1                   0                   0           0   \n1                   0                   1                   0           0   \n2                   0                   0                   0           0   \n3                   0                   1                   0           0   \n4                   1                   0                   0           0   \n\n   intent_T02  intent_T03  intent_T04  intent_T05  authentication_A01  \\\n0           0           0           0           1                   0   \n1           1           0           0           0                   0   \n2           0           0           0           1                   0   \n3           0           0           0           1                   0   \n4           1           0           0           0                   0   \n\n   authentication_A02  authentication_A03  authentication_A04  \\\n0                   0                   0                   0   \n1                   1                   0                   0   \n2                   0                   0                   0   \n3                   1                   0                   0   \n4                   1                   0                   0   \n\n   authentication_A05  authentication_A06  anomaly_iforest  \n0                   0                   1                0  \n1                   0                   0                0  \n2                   0                   1                0  \n3                   0                   0                0  \n4                   0                   0                0  \n"
     ]
    }
   ],
   "source": [
    "print(fds_pdf_encoded.head())"
   ]
  },
  {
   "cell_type": "code",
   "execution_count": 0,
   "metadata": {
    "application/vnd.databricks.v1+cell": {
     "cellMetadata": {
      "byteLimit": 2048000,
      "rowLimit": 10000
     },
     "inputWidgets": {},
     "nuid": "01da9704-3326-482d-8cf0-aa9c989be49e",
     "showTitle": false,
     "tableResultSettingsMap": {},
     "title": ""
    }
   },
   "outputs": [
    {
     "output_type": "stream",
     "name": "stderr",
     "output_type": "stream",
     "text": [
      "/databricks/spark/python/pyspark/sql/pandas/conversion.py:477: UserWarning: createDataFrame attempted Arrow optimization because 'spark.sql.execution.arrow.pyspark.enabled' is set to true; however, failed by the reason below:\n  Unable to convert the field payment_method_P01. If this column is not necessary, you may consider dropping it or converting to primitive type before the conversion.\nDirect cause: [UNSUPPORTED_DATA_TYPE_FOR_ARROW_CONVERSION] uint8 is not supported in conversion to Arrow.\nAttempting non-optimization as 'spark.sql.execution.arrow.pyspark.fallback.enabled' is set to true.\n  warn(msg)\n"
     ]
    },
    {
     "output_type": "display_data",
     "data": {
      "text/html": [
       "<style scoped>\n",
       "  .table-result-container {\n",
       "    max-height: 300px;\n",
       "    overflow: auto;\n",
       "  }\n",
       "  table, th, td {\n",
       "    border: 1px solid black;\n",
       "    border-collapse: collapse;\n",
       "  }\n",
       "  th, td {\n",
       "    padding: 5px;\n",
       "  }\n",
       "  th {\n",
       "    text-align: left;\n",
       "  }\n",
       "</style><div class='table-result-container'><table class='table-result'><thead style='background-color: white'><tr><th>transaction_time</th><th>TransactionDT</th><th>recipient</th><th>TransactionAmt</th><th>hour</th><th>voice_match</th><th>DeviceInfo</th><th>region</th><th>receiver_bank</th><th>receiver_account</th><th>is_new_account_for_user</th><th>avg_amount_to_bank</th><th>amount_ratio_to_bank_avg</th><th>is_nighttime</th><th>recent_transaction_gap</th><th>is_new_device</th><th>ip_address</th><th>vpn</th><th>app_version</th><th>rooting</th><th>payment_method_P01</th><th>payment_method_P02</th><th>payment_method_P03</th><th>payment_method_P04</th><th>payment_method_P05</th><th>payment_method_P06</th><th>intent_T01</th><th>intent_T02</th><th>intent_T03</th><th>intent_T04</th><th>intent_T05</th><th>authentication_A01</th><th>authentication_A02</th><th>authentication_A03</th><th>authentication_A04</th><th>authentication_A05</th><th>authentication_A06</th><th>anomaly_iforest</th></tr></thead><tbody><tr><td>2025-03-08 05:20:47</td><td>87532</td><td>명자</td><td>380210.0</td><td>5</td><td>1</td><td>NaN</td><td>광주</td><td>하나은행</td><td>1000000398441</td><td>0</td><td>89452</td><td>4.250435988015919</td><td>1</td><td>18.862544871110025</td><td>1</td><td>15.188.141.62</td><td>0</td><td>1.5.4</td><td>1</td><td>0</td><td>0</td><td>0</td><td>0</td><td>0</td><td>1</td><td>0</td><td>0</td><td>0</td><td>0</td><td>1</td><td>0</td><td>0</td><td>0</td><td>0</td><td>1</td><td>0</td><td>1</td></tr><tr><td>2025-04-23 19:47:12</td><td>87581</td><td>도윤</td><td>2454000.0</td><td>19</td><td>1</td><td>NaN</td><td>광주</td><td>하나은행</td><td>1000000538790</td><td>1</td><td>90721</td><td>27.04996638044113</td><td>0</td><td>115.41934277364273</td><td>1</td><td>116.44.59.33</td><td>1</td><td>3.1.1</td><td>1</td><td>0</td><td>0</td><td>1</td><td>0</td><td>0</td><td>0</td><td>0</td><td>0</td><td>0</td><td>0</td><td>1</td><td>0</td><td>0</td><td>0</td><td>1</td><td>0</td><td>0</td><td>1</td></tr><tr><td>2025-01-06 12:18:44</td><td>88107</td><td>정웅</td><td>527000.0</td><td>12</td><td>0</td><td>NaN</td><td>대구</td><td>신한은행</td><td>1000000555850</td><td>0</td><td>76753</td><td>6.866181126470627</td><td>0</td><td>115.64596318252252</td><td>1</td><td>185.253.50.136</td><td>0</td><td>1.6.4</td><td>0</td><td>0</td><td>0</td><td>0</td><td>1</td><td>0</td><td>0</td><td>0</td><td>1</td><td>0</td><td>0</td><td>0</td><td>1</td><td>0</td><td>0</td><td>0</td><td>0</td><td>0</td><td>1</td></tr><tr><td>2025-01-06 04:40:54</td><td>88162</td><td>유진</td><td>75000.0</td><td>4</td><td>1</td><td>iOS Device</td><td>속초</td><td>토스뱅크</td><td>1000000582828</td><td>0</td><td>95523</td><td>0.785151220124996</td><td>1</td><td>355.0833400328701</td><td>1</td><td>203.251.88.208</td><td>0</td><td>3.8.0</td><td>0</td><td>0</td><td>0</td><td>0</td><td>0</td><td>0</td><td>1</td><td>1</td><td>0</td><td>0</td><td>0</td><td>0</td><td>0</td><td>0</td><td>0</td><td>0</td><td>1</td><td>0</td><td>1</td></tr><tr><td>2025-01-05 20:19:01</td><td>88380</td><td>채원</td><td>1153950.0</td><td>20</td><td>0</td><td>NaN</td><td>부산</td><td>카카오뱅크</td><td>1000000564016</td><td>0</td><td>446310</td><td>2.5855347180211066</td><td>0</td><td>124.80687353452042</td><td>0</td><td>192.167.186.254</td><td>0</td><td>3.5.4</td><td>0</td><td>1</td><td>0</td><td>0</td><td>0</td><td>0</td><td>0</td><td>0</td><td>1</td><td>0</td><td>0</td><td>0</td><td>0</td><td>0</td><td>0</td><td>0</td><td>1</td><td>0</td><td>1</td></tr></tbody></table></div>"
      ]
     },
     "metadata": {
      "application/vnd.databricks.v1+output": {
       "addedWidgets": {},
       "aggData": [],
       "aggError": "",
       "aggOverflow": false,
       "aggSchema": [],
       "aggSeriesLimitReached": false,
       "aggType": "",
       "arguments": {},
       "columnCustomDisplayInfos": {},
       "data": [
        [
         "2025-03-08 05:20:47",
         87532,
         "명자",
         380210.0,
         5,
         1,
         "NaN",
         "광주",
         "하나은행",
         1000000398441,
         0,
         89452,
         4.250435988015919,
         1,
         18.862544871110025,
         1,
         "15.188.141.62",
         0,
         "1.5.4",
         1,
         0,
         0,
         0,
         0,
         0,
         1,
         0,
         0,
         0,
         0,
         1,
         0,
         0,
         0,
         0,
         1,
         0,
         1
        ],
        [
         "2025-04-23 19:47:12",
         87581,
         "도윤",
         2454000.0,
         19,
         1,
         "NaN",
         "광주",
         "하나은행",
         1000000538790,
         1,
         90721,
         27.04996638044113,
         0,
         115.41934277364273,
         1,
         "116.44.59.33",
         1,
         "3.1.1",
         1,
         0,
         0,
         1,
         0,
         0,
         0,
         0,
         0,
         0,
         0,
         1,
         0,
         0,
         0,
         1,
         0,
         0,
         1
        ],
        [
         "2025-01-06 12:18:44",
         88107,
         "정웅",
         527000.0,
         12,
         0,
         "NaN",
         "대구",
         "신한은행",
         1000000555850,
         0,
         76753,
         6.866181126470627,
         0,
         115.64596318252252,
         1,
         "185.253.50.136",
         0,
         "1.6.4",
         0,
         0,
         0,
         0,
         1,
         0,
         0,
         0,
         1,
         0,
         0,
         0,
         1,
         0,
         0,
         0,
         0,
         0,
         1
        ],
        [
         "2025-01-06 04:40:54",
         88162,
         "유진",
         75000.0,
         4,
         1,
         "iOS Device",
         "속초",
         "토스뱅크",
         1000000582828,
         0,
         95523,
         0.785151220124996,
         1,
         355.0833400328701,
         1,
         "203.251.88.208",
         0,
         "3.8.0",
         0,
         0,
         0,
         0,
         0,
         0,
         1,
         1,
         0,
         0,
         0,
         0,
         0,
         0,
         0,
         0,
         1,
         0,
         1
        ],
        [
         "2025-01-05 20:19:01",
         88380,
         "채원",
         1153950.0,
         20,
         0,
         "NaN",
         "부산",
         "카카오뱅크",
         1000000564016,
         0,
         446310,
         2.5855347180211066,
         0,
         124.80687353452042,
         0,
         "192.167.186.254",
         0,
         "3.5.4",
         0,
         1,
         0,
         0,
         0,
         0,
         0,
         0,
         1,
         0,
         0,
         0,
         0,
         0,
         0,
         0,
         1,
         0,
         1
        ]
       ],
       "datasetInfos": [],
       "dbfsResultPath": null,
       "isJsonSchema": true,
       "metadata": {},
       "overflow": false,
       "plotOptions": {
        "customPlotOptions": {},
        "displayType": "table",
        "pivotAggregation": null,
        "pivotColumns": null,
        "xColumns": null,
        "yColumns": null
       },
       "removedWidgets": [],
       "schema": [
        {
         "metadata": "{}",
         "name": "transaction_time",
         "type": "\"string\""
        },
        {
         "metadata": "{}",
         "name": "TransactionDT",
         "type": "\"long\""
        },
        {
         "metadata": "{}",
         "name": "recipient",
         "type": "\"string\""
        },
        {
         "metadata": "{}",
         "name": "TransactionAmt",
         "type": "\"double\""
        },
        {
         "metadata": "{}",
         "name": "hour",
         "type": "\"long\""
        },
        {
         "metadata": "{}",
         "name": "voice_match",
         "type": "\"long\""
        },
        {
         "metadata": "{}",
         "name": "DeviceInfo",
         "type": "\"string\""
        },
        {
         "metadata": "{}",
         "name": "region",
         "type": "\"string\""
        },
        {
         "metadata": "{}",
         "name": "receiver_bank",
         "type": "\"string\""
        },
        {
         "metadata": "{}",
         "name": "receiver_account",
         "type": "\"long\""
        },
        {
         "metadata": "{}",
         "name": "is_new_account_for_user",
         "type": "\"long\""
        },
        {
         "metadata": "{}",
         "name": "avg_amount_to_bank",
         "type": "\"long\""
        },
        {
         "metadata": "{}",
         "name": "amount_ratio_to_bank_avg",
         "type": "\"double\""
        },
        {
         "metadata": "{}",
         "name": "is_nighttime",
         "type": "\"long\""
        },
        {
         "metadata": "{}",
         "name": "recent_transaction_gap",
         "type": "\"double\""
        },
        {
         "metadata": "{}",
         "name": "is_new_device",
         "type": "\"long\""
        },
        {
         "metadata": "{}",
         "name": "ip_address",
         "type": "\"string\""
        },
        {
         "metadata": "{}",
         "name": "vpn",
         "type": "\"long\""
        },
        {
         "metadata": "{}",
         "name": "app_version",
         "type": "\"string\""
        },
        {
         "metadata": "{}",
         "name": "rooting",
         "type": "\"long\""
        },
        {
         "metadata": "{}",
         "name": "payment_method_P01",
         "type": "\"long\""
        },
        {
         "metadata": "{}",
         "name": "payment_method_P02",
         "type": "\"long\""
        },
        {
         "metadata": "{}",
         "name": "payment_method_P03",
         "type": "\"long\""
        },
        {
         "metadata": "{}",
         "name": "payment_method_P04",
         "type": "\"long\""
        },
        {
         "metadata": "{}",
         "name": "payment_method_P05",
         "type": "\"long\""
        },
        {
         "metadata": "{}",
         "name": "payment_method_P06",
         "type": "\"long\""
        },
        {
         "metadata": "{}",
         "name": "intent_T01",
         "type": "\"long\""
        },
        {
         "metadata": "{}",
         "name": "intent_T02",
         "type": "\"long\""
        },
        {
         "metadata": "{}",
         "name": "intent_T03",
         "type": "\"long\""
        },
        {
         "metadata": "{}",
         "name": "intent_T04",
         "type": "\"long\""
        },
        {
         "metadata": "{}",
         "name": "intent_T05",
         "type": "\"long\""
        },
        {
         "metadata": "{}",
         "name": "authentication_A01",
         "type": "\"long\""
        },
        {
         "metadata": "{}",
         "name": "authentication_A02",
         "type": "\"long\""
        },
        {
         "metadata": "{}",
         "name": "authentication_A03",
         "type": "\"long\""
        },
        {
         "metadata": "{}",
         "name": "authentication_A04",
         "type": "\"long\""
        },
        {
         "metadata": "{}",
         "name": "authentication_A05",
         "type": "\"long\""
        },
        {
         "metadata": "{}",
         "name": "authentication_A06",
         "type": "\"long\""
        },
        {
         "metadata": "{}",
         "name": "anomaly_iforest",
         "type": "\"long\""
        }
       ],
       "type": "table"
      }
     },
     "output_type": "display_data"
    }
   ],
   "source": [
    "anomalies = fds_pdf_encoded[fds_pdf_encoded['anomaly_iforest'] == 1]\n",
    "display(anomalies.head())\n"
   ]
  },
  {
   "cell_type": "code",
   "execution_count": 0,
   "metadata": {
    "application/vnd.databricks.v1+cell": {
     "cellMetadata": {
      "byteLimit": 2048000,
      "rowLimit": 10000
     },
     "inputWidgets": {},
     "nuid": "a2de0143-1344-4e08-ac59-e83197b72488",
     "showTitle": false,
     "tableResultSettingsMap": {},
     "title": ""
    }
   },
   "outputs": [
    {
     "output_type": "stream",
     "name": "stdout",
     "output_type": "stream",
     "text": [
      "                          Anomaly Mean  Normal Mean\nTransactionAmt               711861.64    104667.47\nhour                              8.36        11.65\nis_nighttime                      0.53         0.24\nvpn                               0.51         0.50\nis_new_device                     0.49         0.50\namount_ratio_to_bank_avg          4.30         0.50\n"
     ]
    }
   ],
   "source": [
    "normal = fds_pdf_encoded[fds_pdf_encoded['anomaly_iforest'] == 0]\n",
    "\n",
    "features_to_compare = [\n",
    "    'TransactionAmt', 'hour', 'is_nighttime', 'vpn',\n",
    "    'is_new_device', 'amount_ratio_to_bank_avg'\n",
    "]\n",
    "\n",
    "anomaly_mean = anomalies[features_to_compare].mean().round(2)\n",
    "normal_mean = normal[features_to_compare].mean().round(2)\n",
    "\n",
    "comparison_df = pd.DataFrame({\n",
    "    'Anomaly Mean': anomaly_mean,\n",
    "    'Normal Mean': normal_mean\n",
    "})\n",
    "print(comparison_df)"
   ]
  },
  {
   "cell_type": "markdown",
   "metadata": {
    "application/vnd.databricks.v1+cell": {
     "cellMetadata": {},
     "inputWidgets": {},
     "nuid": "1f357816-1e5a-4eda-acb7-8644df05b706",
     "showTitle": false,
     "tableResultSettingsMap": {},
     "title": ""
    }
   },
   "source": [
    "Unsupervised Learning 적용② - Autoencoder"
   ]
  },
  {
   "cell_type": "code",
   "execution_count": 0,
   "metadata": {
    "application/vnd.databricks.v1+cell": {
     "cellMetadata": {
      "byteLimit": 2048000,
      "rowLimit": 10000
     },
     "inputWidgets": {},
     "nuid": "375e334b-c922-4884-9fdf-dd10279037fa",
     "showTitle": false,
     "tableResultSettingsMap": {},
     "title": ""
    }
   },
   "outputs": [],
   "source": [
    "import torch\n",
    "import torch.nn as nn\n",
    "import torch.optim as optim\n",
    "\n",
    "class AutoEncoder(nn.Module):\n",
    "    def __init__(self, input_dim):\n",
    "        super(AutoEncoder, self).__init__()\n",
    "        self.encoder = nn.Sequential(\n",
    "            nn.Linear(input_dim, 32),\n",
    "            nn.ReLU(),\n",
    "            nn.Linear(32, 16),\n",
    "            nn.ReLU()\n",
    "        )\n",
    "        self.decoder = nn.Sequential(\n",
    "            nn.Linear(16, 32),\n",
    "            nn.ReLU(),\n",
    "            nn.Linear(32, input_dim)\n",
    "        )\n",
    "\n",
    "    def forward(self, x):\n",
    "        encoded = self.encoder(x)\n",
    "        decoded = self.decoder(encoded)\n",
    "        return decoded\n"
   ]
  },
  {
   "cell_type": "code",
   "execution_count": 0,
   "metadata": {
    "application/vnd.databricks.v1+cell": {
     "cellMetadata": {
      "byteLimit": 2048000,
      "rowLimit": 10000
     },
     "inputWidgets": {},
     "nuid": "8070f4ec-0ce4-416d-be06-1f0c2dc267d4",
     "showTitle": false,
     "tableResultSettingsMap": {},
     "title": ""
    }
   },
   "outputs": [],
   "source": [
    "from sklearn.model_selection import train_test_split\n",
    "from torch.utils.data import DataLoader, TensorDataset\n",
    "\n",
    "# X: StandardScaler로 정규화된 데이터라고 가정\n",
    "X_train, X_val = train_test_split(X, test_size=0.2, random_state=42)\n",
    "\n",
    "# Tensor로 변환\n",
    "X_train_tensor = torch.tensor(X_train, dtype=torch.float32)\n",
    "X_val_tensor = torch.tensor(X_val, dtype=torch.float32)\n",
    "\n",
    "train_loader = DataLoader(TensorDataset(X_train_tensor), batch_size=64, shuffle=True)\n",
    "\n",
    "# 모델 초기화\n",
    "input_dim = X.shape[1]\n",
    "model = AutoEncoder(input_dim)\n",
    "criterion = nn.MSELoss()\n",
    "optimizer = optim.Adam(model.parameters(), lr=1e-3)\n",
    "\n",
    "# 학습\n",
    "n_epochs = 30\n",
    "model.train()\n",
    "for epoch in range(n_epochs):\n",
    "    for batch in train_loader:\n",
    "        x_batch = batch[0]\n",
    "        optimizer.zero_grad()\n",
    "        outputs = model(x_batch)\n",
    "        loss = criterion(outputs, x_batch)\n",
    "        loss.backward()\n",
    "        optimizer.step()"
   ]
  },
  {
   "cell_type": "code",
   "execution_count": 0,
   "metadata": {
    "application/vnd.databricks.v1+cell": {
     "cellMetadata": {
      "byteLimit": 2048000,
      "rowLimit": 10000
     },
     "inputWidgets": {},
     "nuid": "983cc825-b953-47a6-919f-6de0672e3122",
     "showTitle": false,
     "tableResultSettingsMap": {},
     "title": ""
    }
   },
   "outputs": [],
   "source": [
    "# 재구성 오차 \n",
    "model.eval()\n",
    "X_tensor = torch.tensor(X, dtype=torch.float32)\n",
    "with torch.no_grad():\n",
    "    recon = model(X_tensor)\n",
    "    mse = torch.mean((X_tensor - recon) ** 2, dim=1).numpy()\n"
   ]
  },
  {
   "cell_type": "code",
   "execution_count": 0,
   "metadata": {
    "application/vnd.databricks.v1+cell": {
     "cellMetadata": {
      "byteLimit": 2048000,
      "rowLimit": 10000
     },
     "inputWidgets": {},
     "nuid": "bdc62355-3944-464f-8b89-225eecde6446",
     "showTitle": false,
     "tableResultSettingsMap": {},
     "title": ""
    }
   },
   "outputs": [
    {
     "output_type": "stream",
     "name": "stdout",
     "output_type": "stream",
     "text": [
      "0    561013\n1     29527\nName: anomaly_autoencoder, dtype: int64\n"
     ]
    }
   ],
   "source": [
    "# 오차가 큰 경우, pseudo_labels =1 (이상치)\n",
    "import numpy as np\n",
    "\n",
    "threshold = np.percentile(mse, 95)  # 상위 5% 이상치는 이상 거래\n",
    "pseudo_labels = (mse > threshold).astype(int)\n",
    "\n",
    "# 저장\n",
    "fds_pdf_encoded['anomaly_autoencoder'] = pseudo_labels\n",
    "\n",
    "# 확인\n",
    "print(fds_pdf_encoded['anomaly_autoencoder'].value_counts())\n"
   ]
  },
  {
   "cell_type": "code",
   "execution_count": 0,
   "metadata": {
    "application/vnd.databricks.v1+cell": {
     "cellMetadata": {
      "byteLimit": 2048000,
      "rowLimit": 10000
     },
     "inputWidgets": {},
     "nuid": "48e032db-6595-49f4-8142-1ae5ec026b58",
     "showTitle": false,
     "tableResultSettingsMap": {},
     "title": ""
    }
   },
   "outputs": [
    {
     "output_type": "stream",
     "name": "stdout",
     "output_type": "stream",
     "text": [
      "      transaction_time  TransactionDT recipient  TransactionAmt  hour  \\\n0  2025-01-14 09:56:23          86400        춘자         68500.0     9   \n1  2025-04-20 22:42:41          86401        수빈         29000.0    22   \n2  2025-04-09 19:27:13          86469        서준         59000.0    19   \n3  2025-01-30 01:26:54          86499        병철         50000.0     1   \n4  2025-01-24 22:58:30          86506        민수         50000.0    22   \n\n   voice_match                     DeviceInfo region receiver_bank  \\\n0            1                            NaN     대구          토스뱅크   \n1            0                            NaN     대구         카카오뱅크   \n2            1                            NaN     부산          신한은행   \n3            1                            NaN     부산         카카오뱅크   \n4            1  SAMSUNG SM-G892A Build/NRD90M     서울          우리은행   \n\n   receiver_account  is_new_account_for_user  avg_amount_to_bank  \\\n0     1000000266274                        0              481616   \n1     1000000573349                        1               79943   \n2     1000000451208                        0              218283   \n3     1000000473588                        0              457390   \n4     1000000040287                        0              289443   \n\n   amount_ratio_to_bank_avg  is_nighttime  recent_transaction_gap  \\\n0                  0.142229             0               14.932585   \n1                  0.362758             0               21.894439   \n2                  0.270291             0               17.249459   \n3                  0.109316             1               12.112011   \n4                  0.172746             0               75.834574   \n\n   is_new_device      ip_address  vpn app_version  rooting  \\\n0              0    58.232.2.170    0       3.1.0        0   \n1              0      25.0.3.185    0       3.4.3        0   \n2              0  168.188.65.132    1       1.2.1        1   \n3              1  158.221.28.126    1       3.8.1        1   \n4              1  171.223.101.73    1       3.6.0        1   \n\n   payment_method_P01  payment_method_P02  payment_method_P03  \\\n0                   0                   0                   0   \n1                   0                   0                   0   \n2                   1                   0                   0   \n3                   0                   0                   0   \n4                   0                   0                   0   \n\n   payment_method_P04  payment_method_P05  payment_method_P06  intent_T01  \\\n0                   1                   0                   0           0   \n1                   0                   1                   0           0   \n2                   0                   0                   0           0   \n3                   0                   1                   0           0   \n4                   1                   0                   0           0   \n\n   intent_T02  intent_T03  intent_T04  intent_T05  authentication_A01  \\\n0           0           0           0           1                   0   \n1           1           0           0           0                   0   \n2           0           0           0           1                   0   \n3           0           0           0           1                   0   \n4           1           0           0           0                   0   \n\n   authentication_A02  authentication_A03  authentication_A04  \\\n0                   0                   0                   0   \n1                   1                   0                   0   \n2                   0                   0                   0   \n3                   1                   0                   0   \n4                   1                   0                   0   \n\n   authentication_A05  authentication_A06  anomaly_iforest  \\\n0                   0                   1                0   \n1                   0                   0                0   \n2                   0                   1                0   \n3                   0                   0                0   \n4                   0                   0                0   \n\n   anomaly_autoencoder  \n0                    0  \n1                    0  \n2                    0  \n3                    0  \n4                    0  \n"
     ]
    }
   ],
   "source": [
    "pd.set_option('display.max_rows', None)\n",
    "pd.set_option('display.max_columns', None)\n",
    "\n",
    "print(fds_pdf_encoded.head())"
   ]
  },
  {
   "cell_type": "markdown",
   "metadata": {
    "application/vnd.databricks.v1+cell": {
     "cellMetadata": {},
     "inputWidgets": {},
     "nuid": "5b3d23c7-3d1c-4f9e-9af1-7b5ea2d8dd6e",
     "showTitle": false,
     "tableResultSettingsMap": {},
     "title": ""
    }
   },
   "source": [
    "Unsupervised Learning 적용③ - VAE"
   ]
  },
  {
   "cell_type": "code",
   "execution_count": 0,
   "metadata": {
    "application/vnd.databricks.v1+cell": {
     "cellMetadata": {
      "byteLimit": 2048000,
      "rowLimit": 10000
     },
     "inputWidgets": {},
     "nuid": "02f097fc-aa4c-4d5f-8947-be876b1e83fd",
     "showTitle": false,
     "tableResultSettingsMap": {},
     "title": ""
    }
   },
   "outputs": [],
   "source": [
    "import torch\n",
    "import torch.nn as nn\n",
    "import torch.nn.functional as F\n",
    "\n",
    "#VAE 모델 정의\n",
    "class VAE(nn.Module):\n",
    "    def __init__(self, input_dim):\n",
    "        super(VAE, self).__init__()\n",
    "        self.fc1 = nn.Linear(input_dim, 32)\n",
    "        self.fc2 = nn.Linear(32, 16)\n",
    "        self.fc_mu = nn.Linear(16, 8)\n",
    "        self.fc_logvar = nn.Linear(16, 8)\n",
    "\n",
    "        self.fc3 = nn.Linear(8, 16)\n",
    "        self.fc4 = nn.Linear(16, 32)\n",
    "        self.fc_out = nn.Linear(32, input_dim)\n",
    "\n",
    "    def encode(self, x):\n",
    "        h1 = F.relu(self.fc1(x))\n",
    "        h2 = F.relu(self.fc2(h1))\n",
    "        mu = self.fc_mu(h2)\n",
    "        logvar = self.fc_logvar(h2)\n",
    "        return mu, logvar\n",
    "\n",
    "    def reparameterize(self, mu, logvar):\n",
    "        std = torch.exp(0.5 * logvar)\n",
    "        eps = torch.randn_like(std)\n",
    "        return mu + eps * std\n",
    "\n",
    "    def decode(self, z):\n",
    "        h3 = F.relu(self.fc3(z))\n",
    "        h4 = F.relu(self.fc4(h3))\n",
    "        return self.fc_out(h4)\n",
    "\n",
    "    def forward(self, x):\n",
    "        mu, logvar = self.encode(x)\n",
    "        z = self.reparameterize(mu, logvar)\n",
    "        x_recon = self.decode(z)\n",
    "        return x_recon, mu, logvar\n"
   ]
  },
  {
   "cell_type": "code",
   "execution_count": 0,
   "metadata": {
    "application/vnd.databricks.v1+cell": {
     "cellMetadata": {
      "byteLimit": 2048000,
      "rowLimit": 10000
     },
     "inputWidgets": {},
     "nuid": "50457fa6-5dcb-4dbd-aa0f-3150fa1e949f",
     "showTitle": false,
     "tableResultSettingsMap": {},
     "title": ""
    }
   },
   "outputs": [],
   "source": [
    "from torch.utils.data import DataLoader, TensorDataset\n",
    "\n",
    "#VAE 모델 학습\n",
    "X_tensor = torch.tensor(X, dtype=torch.float32)\n",
    "train_loader = DataLoader(TensorDataset(X_tensor), batch_size=64, shuffle=True)\n",
    "\n",
    "vae = VAE(input_dim=X.shape[1])\n",
    "optimizer = torch.optim.Adam(vae.parameters(), lr=1e-3)\n",
    "\n",
    "def vae_loss(x, x_recon, mu, logvar):\n",
    "    recon_loss = F.mse_loss(x_recon, x, reduction='mean')\n",
    "    kl_div = -0.5 * torch.mean(1 + logvar - mu.pow(2) - logvar.exp())\n",
    "    return recon_loss + kl_div\n",
    "\n",
    "vae.train()\n",
    "n_epochs = 30\n",
    "for epoch in range(n_epochs):\n",
    "    for batch in train_loader:\n",
    "        x_batch = batch[0]\n",
    "        optimizer.zero_grad()\n",
    "        x_recon, mu, logvar = vae(x_batch)\n",
    "        loss = vae_loss(x_batch, x_recon, mu, logvar)\n",
    "        loss.backward()\n",
    "        optimizer.step()\n"
   ]
  },
  {
   "cell_type": "code",
   "execution_count": 0,
   "metadata": {
    "application/vnd.databricks.v1+cell": {
     "cellMetadata": {
      "byteLimit": 2048000,
      "rowLimit": 10000
     },
     "inputWidgets": {},
     "nuid": "101bca21-0692-4140-b09e-89143a3cade5",
     "showTitle": false,
     "tableResultSettingsMap": {},
     "title": ""
    }
   },
   "outputs": [],
   "source": [
    "# 복원 오차 기반 이상치 판별\n",
    "vae.eval()\n",
    "with torch.no_grad():\n",
    "    x_recon, _, _ = vae(X_tensor)\n",
    "    recon_error = torch.mean((X_tensor - x_recon) ** 2, dim=1).numpy()\n",
    "\n",
    "# 오차 상위 5%를 이상치로 간주\n",
    "import numpy as np\n",
    "threshold = np.percentile(recon_error, 95)\n",
    "pseudo_labels_vae = (recon_error > threshold).astype(int)\n"
   ]
  },
  {
   "cell_type": "code",
   "execution_count": 0,
   "metadata": {
    "application/vnd.databricks.v1+cell": {
     "cellMetadata": {
      "byteLimit": 2048000,
      "rowLimit": 10000
     },
     "inputWidgets": {},
     "nuid": "e2d09ba9-f7d9-4914-99a7-5fa41ecc4cf0",
     "showTitle": false,
     "tableResultSettingsMap": {},
     "title": ""
    }
   },
   "outputs": [
    {
     "output_type": "stream",
     "name": "stdout",
     "output_type": "stream",
     "text": [
      "0    561013\n1     29527\nName: anomaly_vae, dtype: int64\n"
     ]
    }
   ],
   "source": [
    "# pseudo label 출력\n",
    "fds_pdf_encoded['anomaly_vae'] = pseudo_labels_vae\n",
    "print(fds_pdf_encoded['anomaly_vae'].value_counts())\n"
   ]
  },
  {
   "cell_type": "code",
   "execution_count": 0,
   "metadata": {
    "application/vnd.databricks.v1+cell": {
     "cellMetadata": {
      "byteLimit": 2048000,
      "rowLimit": 10000
     },
     "inputWidgets": {},
     "nuid": "e3a7b6c0-1937-4eaf-8dfe-e8a4d93a0b50",
     "showTitle": false,
     "tableResultSettingsMap": {},
     "title": ""
    }
   },
   "outputs": [],
   "source": [
    "# fds_pdf_encoded 데이터 저장\n",
    "fds_pdf_encoded.to_csv(\"/dbfs/mnt/my-mount/fds_pdf_encoded_data2.csv\", index=False, encoding='utf-8-sig')"
   ]
  }
 ],
 "metadata": {
  "application/vnd.databricks.v1+notebook": {
   "computePreferences": null,
   "dashboards": [],
   "environmentMetadata": {
    "base_environment": "",
    "environment_version": "2"
   },
   "inputWidgetPreferences": null,
   "language": "python",
   "notebookMetadata": {
    "pythonIndentUnit": 4
   },
   "notebookName": "seoryeong_unsupervised learning",
   "widgets": {}
  },
  "language_info": {
   "name": "python"
  }
 },
 "nbformat": 4,
 "nbformat_minor": 0
}